{
 "cells": [
  {
   "cell_type": "markdown",
   "metadata": {},
   "source": [
    "### Perceptron"
   ]
  },
  {
   "cell_type": "code",
   "execution_count": 18,
   "metadata": {},
   "outputs": [],
   "source": [
    "# 导入相关库\n",
    "import pandas as pd\n",
    "import numpy as np\n",
    "from sklearn.datasets import load_iris\n",
    "import matplotlib.pyplot as plt\n",
    "from sklearn.model_selection import train_test_split"
   ]
  },
  {
   "cell_type": "code",
   "execution_count": 2,
   "metadata": {},
   "outputs": [
    {
     "data": {
      "text/plain": [
       "0    50\n",
       "1    50\n",
       "2    50\n",
       "Name: label, dtype: int64"
      ]
     },
     "execution_count": 2,
     "metadata": {},
     "output_type": "execute_result"
    }
   ],
   "source": [
    "iris = load_iris()\n",
    "df = pd.DataFrame(iris.data, columns=iris.feature_names)\n",
    "df['label'] = iris.target\n",
    "df.columns = ['sepal length', 'sepal width', 'petal length', 'petal width', 'label']\n",
    "df.label.value_counts()"
   ]
  },
  {
   "cell_type": "code",
   "execution_count": 16,
   "metadata": {},
   "outputs": [
    {
     "name": "stdout",
     "output_type": "stream",
     "text": [
      "(100, 4) (100,)\n"
     ]
    }
   ],
   "source": [
    "data = np.array(df.iloc[:100])\n",
    "X, y = data[:,:-1], data[:,-1]\n",
    "y = np.array([1 if i == 1 else -1 for i in y])\n",
    "print(X.shape, y.shape)"
   ]
  },
  {
   "cell_type": "code",
   "execution_count": 19,
   "metadata": {},
   "outputs": [],
   "source": [
    "train_X, test_X, train_y, test_y = train_test_split(X, y, test_size=0.2)"
   ]
  },
  {
   "cell_type": "code",
   "execution_count": 41,
   "metadata": {},
   "outputs": [],
   "source": [
    "class Perceptron:\n",
    "    \n",
    "    def __init__(self, dim, lr, max_epoch):\n",
    "      self.dim = dim\n",
    "      self.lr = lr\n",
    "      self.max_epoch = max_epoch\n",
    "      \n",
    "      self.W, self.b = self.initialization()\n",
    "    \n",
    "    def initialization(self):\n",
    "        W = np.zeros(self.dim, dtype=np.float64)\n",
    "        b = 0.0\n",
    "        return W, b\n",
    "    \n",
    "    def sign(self, x, y):\n",
    "        \n",
    "        return y * (np.dot(x, self.W) + self.b)\n",
    "    \n",
    "    def fit(self, X, y):\n",
    "        \n",
    "        has_wrong_pred = True\n",
    "        \n",
    "        while has_wrong_pred:\n",
    "            wrong_pred_count = 0\n",
    "            for ep, idx in enumerate(range(len(X))):\n",
    "                if ep+1 >= self.max_epoch:\n",
    "                    break\n",
    "                xi, yi = X[idx], y[idx]\n",
    "            \n",
    "                if self.sign(xi, yi) <= 0:\n",
    "                    \n",
    "                    self.W = self.W + self.lr * np.dot(yi, xi)\n",
    "                    self.b = self.b + self.lr * yi\n",
    "                    wrong_pred_count += 1\n",
    "            print(self.W,self.b)\n",
    "                    \n",
    "            if wrong_pred_count == 0:\n",
    "                has_wrong_pred = False\n",
    "                print(\"There is no missclassification\")\n",
    "                    \n",
    "    def predict(self, X, y):\n",
    "        \n",
    "        num_total = len(X)\n",
    "        num_correct = 0\n",
    "        for idx in range(num_total):\n",
    "            xi, yi = X[idx], y[idx]\n",
    "            \n",
    "            if self.sign(xi, yi) > 0:\n",
    "                num_correct+=1\n",
    "        return num_correct / num_total\n",
    "    \n",
    "    def params(self):\n",
    "        \n",
    "        return self.W, self.b\n",
    "            \n",
    "                    "
   ]
  },
  {
   "cell_type": "code",
   "execution_count": 43,
   "metadata": {},
   "outputs": [
    {
     "name": "stdout",
     "output_type": "stream",
     "text": [
      "[ 0.04 -0.04  0.29  0.11] 0.0\n",
      "[-0.46 -0.38  0.13  0.07] -0.1\n",
      "[-0.42 -0.42  0.42  0.18] -0.1\n",
      "[-0.38 -0.46  0.71  0.29] -0.1\n",
      "[-0.33 -0.56  0.93  0.36] -0.1\n",
      "[-0.33 -0.56  0.93  0.36] -0.1\n",
      "There is no missclassification\n"
     ]
    },
    {
     "data": {
      "text/plain": [
       "1.0"
      ]
     },
     "execution_count": 43,
     "metadata": {},
     "output_type": "execute_result"
    }
   ],
   "source": [
    "model = Perceptron(train_X.shape[-1], 0.1, 4)\n",
    "model.fit(train_X, train_y)\n",
    "accuracy = model.predict(test_X, test_y)\n",
    "accuracy"
   ]
  },
  {
   "cell_type": "code",
   "execution_count": null,
   "metadata": {},
   "outputs": [],
   "source": []
  }
 ],
 "metadata": {
  "kernelspec": {
   "display_name": "Python 3",
   "language": "python",
   "name": "python3"
  },
  "language_info": {
   "codemirror_mode": {
    "name": "ipython",
    "version": 3
   },
   "file_extension": ".py",
   "mimetype": "text/x-python",
   "name": "python",
   "nbconvert_exporter": "python",
   "pygments_lexer": "ipython3",
   "version": "3.9.12"
  },
  "toc": {
   "base_numbering": 1,
   "nav_menu": {},
   "number_sections": true,
   "sideBar": true,
   "skip_h1_title": false,
   "title_cell": "Table of Contents",
   "title_sidebar": "Contents",
   "toc_cell": false,
   "toc_position": {},
   "toc_section_display": true,
   "toc_window_display": false
  }
 },
 "nbformat": 4,
 "nbformat_minor": 2
}
