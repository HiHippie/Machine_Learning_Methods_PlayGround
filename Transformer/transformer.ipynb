{
 "cells": [
  {
   "cell_type": "code",
   "execution_count": 11,
   "metadata": {},
   "outputs": [],
   "source": [
    "import copy\n",
    "import math\n",
    "\n",
    "import torch\n",
    "import torch.nn as nn\n",
    "import torch.nn.functional as F"
   ]
  },
  {
   "cell_type": "markdown",
   "metadata": {},
   "source": [
    "reference:\n",
    "\n",
    "1. http://nlp.seas.harvard.edu/annotated-transformer/\n",
    "\n",
    "2. https://luweikxy.gitbook.io/machine-learning-notes/self-attention-and-transformer\n",
    "\n",
    "3. https://github.com/fubuki75/the-annotated-transformer-notes/blob/master/the%20annotated%20transformer%E5%AD%A6%E4%B9%A0%E7%AC%94%E8%AE%B0.md\n",
    "\n",
    "\n",
    "### Transformer整体结构\n",
    "\n",
    "Transformer整体上是encoder-decoder架构。\n",
    "\n",
    "Encoder把**符号表示序列**映射为**连续表示序列**， $\\left(x_{1}, \\ldots, x_{n}\\right) \\to \\mathbf{z}=\\left(z_{1}, \\ldots, z_{n}\\right)$\n",
    "\n",
    "Decoder为每个$\\mathbf{z}$中的元素生成输出序列$\\left(y_{1}, \\ldots, y_{m}\\right)$。\n",
    "在生成下一个符号时，使用先前生成的符号作为额外的输入。\n",
    "\n",
    "下面代码段展示了encoder-decoder的框架："
   ]
  },
  {
   "cell_type": "code",
   "execution_count": 6,
   "metadata": {},
   "outputs": [],
   "source": [
    "class EncoderDecoder(nn.Module):\n",
    "    '''\n",
    "    标准的encoder-decoder结构\n",
    "    '''\n",
    "    def __ini__(self, encoder, decoder, src_embed, tgt_embed, generator):\n",
    "        super(EncoderDecoder, self).__init__()\n",
    "        '''\n",
    "        src_embed:\n",
    "        tgt_embed:\n",
    "        '''\n",
    "        self.encoder = encoder\n",
    "        self.decoder = decoder\n",
    "        \n",
    "        self.src_embed = src_embed\n",
    "        self.tgt_embed = tgt_embed\n",
    "        \n",
    "        self.generator = generator\n",
    "        \n",
    "    def forward(self, src, tgt, src_mask, tgt_mask):\n",
    "        \n",
    "        # decoder中的memory为encode的输出\n",
    "        return self.decode(self.encode(src, src_mask), src_mask, tgt, tgt_mask)\n",
    "    \n",
    "    def encode(self, src, src_mask):\n",
    "        \n",
    "        return self.encoder(self.src_embed(src), src_mask)\n",
    "    \n",
    "    def decode(self, memory, src_mask, tgt, tgt_mask):\n",
    "        \n",
    "        return self.decoder(self.tgt_embed(tgt), memory, src_mask, tgt_mask)\n",
    "        "
   ]
  },
  {
   "cell_type": "code",
   "execution_count": 8,
   "metadata": {},
   "outputs": [],
   "source": [
    "class Generator(nn.Module):\n",
    "    \"定义标准的 linear + softmax 生成方式\"\n",
    "    \n",
    "    def __init__(self, d_model, vocab):\n",
    "        super(Generator, self).__init__()\n",
    "        self.proj = nn.Linear(d_model, vocab)\n",
    "    \n",
    "    def forward(self, x):\n",
    "        return F.log_softmax(self.proj(x), dim=-1)\n",
    "        "
   ]
  },
  {
   "cell_type": "markdown",
   "metadata": {},
   "source": [
    "Transformer也采用如上decoder-encoder结构。\n",
    "在decoder和encoder中分别使用了堆叠的self-attention和point-wise全连接层。\n",
    "\n",
    "![image](./images/169628874-e9586707-02cc-439b-a0a2-7b5202d16c38.png)"
   ]
  },
  {
   "cell_type": "code",
   "execution_count": 3,
   "metadata": {},
   "outputs": [],
   "source": [
    "def clones(module, N):\n",
    "    \"初始化N个完全一样的module，但注意每个module是参数不共享的\"\n",
    "    return nn.ModuleList([copy.deepcopy(module) for _ in range(N)])"
   ]
  },
  {
   "cell_type": "markdown",
   "metadata": {},
   "source": [
    "关于ModuleList可以参考： https://zhuanlan.zhihu.com/p/64990232\n",
    "\n",
    "TODO:\n",
    "\n",
    "- [] 可以学习一下copy和deepcopy的区别\n"
   ]
  },
  {
   "cell_type": "code",
   "execution_count": 4,
   "metadata": {},
   "outputs": [],
   "source": [
    "class Encoder(nn.Module):\n",
    "    \"Encoder主要组件就是N layers的堆叠，用到clones函数\"\n",
    "    def __init__(self, layer, N):\n",
    "        super(Encoder, self).__init__()\n",
    "        \n",
    "        self.layers = clones(layer, N)\n",
    "        self.norm = LayerNorm(layer.size)\n",
    "        \n",
    "    def forward(self, x, mask):\n",
    "        \"迭代处理x及mask\"\n",
    "        for layer in self.layers:\n",
    "            x = layer(x, mask)\n",
    "        return self.norm(x)"
   ]
  },
  {
   "cell_type": "markdown",
   "metadata": {},
   "source": [
    "对应上面的框架图，Encoder中的每个layer包括：MultiHead Attention，残差连接+LayerNorm， Feed Forward Network，残差连接+LayerNorm。\n",
    "\n",
    "N层结束后，最后还有一个LayerNorm。\n",
    "\n",
    "每个layer中的残差连接+LayerNorm可以表示为：LayerNorm(x + Sublayer(x))。\n",
    "\n",
    "先看LayerNorm:"
   ]
  },
  {
   "cell_type": "code",
   "execution_count": 5,
   "metadata": {},
   "outputs": [],
   "source": [
    "class LayerNorm(nn.Module):\n",
    "    def __init__(self, features, eps=1e-6):\n",
    "        super(LayerNorm, self).__init__()\n",
    "        \n",
    "        self.a_2 = nn.Parameter(torch.ones(features))\n",
    "        self.b_2 = nn.Parameter(torch.zeros(features))\n",
    "        self.eps = eps\n",
    "        \n",
    "    def forward(self, x):\n",
    "        mean = x.mean(-1, keepdim=True)\n",
    "        std = x.std(-1, keepdim=True)\n",
    "        return self.a_2 * (x - mean) / (std + self.eps) + self.b_2"
   ]
  },
  {
   "cell_type": "markdown",
   "metadata": {},
   "source": [
    "再看下残差链接："
   ]
  },
  {
   "cell_type": "code",
   "execution_count": 6,
   "metadata": {},
   "outputs": [],
   "source": [
    "class SublayerConnection(nn.Module):\n",
    "    def __init__(self, size, dropout):\n",
    "        super(SublayerConnection, self).__init__()\n",
    "        self.norm = LayerNorm(size)\n",
    "        self.dropout = nn.Dropout(dropout)\n",
    "        \n",
    "    def forward(self, x, sublayer):\n",
    "        \"Apply residual connection to any sublayer with the same size.\"\n",
    "        return x + self.dropout(sublayer(self.norm(x)))"
   ]
  },
  {
   "cell_type": "markdown",
   "metadata": {},
   "source": [
    "再回头看框架图，encoder中每层（共N层）中有两处sublayer，一个是MultiHeadAttention,一个是position-wise 全连接层。\n",
    "下面我们就按照encoder框架图实现encoderlayer。\n",
    "\n",
    "这里再放一下框架图，省得翻回去看。\n",
    "\n",
    "![image](./images/169628874-e9586707-02cc-439b-a0a2-7b5202d16c38.png)"
   ]
  },
  {
   "cell_type": "code",
   "execution_count": null,
   "metadata": {},
   "outputs": [],
   "source": [
    "class EncoderLayer(nn.Module):\n",
    "    def __init__(self, size, self_attn, feed_forward, dropout):\n",
    "        super(EncoderLayer, self).__init__()\n",
    "        \n",
    "        self.self_attn = self_attn\n",
    "        self.feed_forward = feed_forward\n",
    "        self.sublayer = clones(SublayerConnection(size, dropout), 2)\n",
    "        self.size = size\n",
    "        \n",
    "    def forward(self, x, mask):\n",
    "        \n",
    "        # 为什么self_attn用lambda的形式传参？\n",
    "        x = self.sublayer[0](x, lambda x: self.self_attn(x, x, x, mask))\n",
    "        \n",
    "        return self.sublayer[1](x, self.feed_forward)"
   ]
  },
  {
   "cell_type": "markdown",
   "metadata": {},
   "source": [
    "### 下面看Decoder\n",
    "\n",
    "有了Encoder基础，Decoder就会容易上手一些。不过还是值得注意二者输入输出的差别。"
   ]
  },
  {
   "cell_type": "code",
   "execution_count": 7,
   "metadata": {},
   "outputs": [],
   "source": [
    "class Decoder(nn.Module):\n",
    "    def __init__(self, layer, N):\n",
    "        super(Decoder, self).__init__()\n",
    "        \n",
    "        self.layers = clones(layer, N)\n",
    "        self.norm = LayerNorm(layer.size)\n",
    "        \n",
    "    def forward(self, x, memory, src_mask, tgt_mask):\n",
    "        for layer in self.layers:\n",
    "            x = layer(x, memory, src_mask, tgt_mask)\n",
    "            \n",
    "        return self.norm(x)"
   ]
  },
  {
   "cell_type": "markdown",
   "metadata": {},
   "source": [
    "区别于encoder, decoder有三个sublayer。\n",
    "\n",
    "而且第一个MultiHeadAttention层是**masked** MultiHeadAttention，晚些我们会解释它的作用。\n",
    "\n",
    "第一个attn是self attn，第二个是cross attn。"
   ]
  },
  {
   "cell_type": "code",
   "execution_count": 8,
   "metadata": {},
   "outputs": [],
   "source": [
    "class DecoderLayer(nn.Module):\n",
    "    def __init__(self, size, self_attn, src_attn, feed_forward, dropout):\n",
    "        super(DecoderLayer, self).__init__()\n",
    "        \n",
    "        self.size = size\n",
    "        self.self_attn = self_attn\n",
    "        self.src_attn = src_attn\n",
    "        self.feed_forward = feed_forward\n",
    "        self.sublayer = clones(SublayerConnection(size, dropout), 3)\n",
    "        \n",
    "    def forward(self, x, memory, src_mask, tgt_mask):\n",
    "        \n",
    "        # 这一步的目的是什么？\n",
    "        m = memory\n",
    "        x = self.sublayer[0](x, lambda x: self.self_attn(x, x, x, tgt_mask))\n",
    "        x = self.sublayer[1](x, lambda x: self.src_attn(x, m, m, src_mask))\n",
    "        return self.sublayer[2](x, self.feed_forward)"
   ]
  },
  {
   "cell_type": "markdown",
   "metadata": {},
   "source": [
    "写到这里会发现有很多mask参数，所以有必要深究一下各种mask究竟是干嘛的。\n",
    "\n",
    "这部分主要参考： https://luweikxy.gitbook.io/machine-learning-notes/self-attention-and-transformer\n",
    "\n",
    "### 什么是Mask？\n",
    "\n",
    "mask表示掩码，它对某些值进行掩盖，使其在参数更新时不产生效果。Transformer模型里面涉及两种mask，分别是 padding mask和sequence mask。 其中，padding mask在所有的scaled dot-product attention（也就是attention计算中）里面都需要用到，而sequence mask只有在Decoder的Self-Attention里面用到。\n",
    "\n",
    "Padding mask是为了让每个batch的输入等长。 另外在计算attn时，这些填充的位置不应得到“atten”，所以需要在padding mask为False的位置加上负无穷的数，这样在attn的softmax之后，这些padding的位置的atten score就趋近于0。（注意其实输入序列会有个max length， 小于它需要mask，大于它的会直接截断掉左侧多余的内容）\n",
    "\n",
    "Sequence mask是为了让decoder看不到“未来信息”。因为我们要序列化的预测，自然不能让decoder预知未来，而只能根据过去推测当前输出，所以需要这个mask。实现中，sequence mask是一个下三角矩阵，对角线及左下角为1，其余为0.\n",
    "\n",
    "在transformer中，只有decoder的self-attention是需要同时使用padding mask和sequential mask的（二者之和作为attn mask），encoder的self-attention和decoder的cross attention均只使用padding mask作为attn mask。"
   ]
  },
  {
   "cell_type": "markdown",
   "metadata": {},
   "source": [
    "我们看下sequential mask"
   ]
  },
  {
   "cell_type": "code",
   "execution_count": 9,
   "metadata": {},
   "outputs": [],
   "source": [
    "def subsequent_mask(size):\n",
    "    attn_shape = (1, size, size)\n",
    "    subsequent_mask = torch.triu(torch.ones(attn_shape), diagonal=-1).type(torch.uint8)\n",
    "    return subsequent_mask == 0"
   ]
  },
  {
   "cell_type": "markdown",
   "metadata": {},
   "source": [
    "### Attention\n",
    "\n",
    "\n",
    "![image](./images/169642008-0347600c-1bdf-41f9-b612-e369734fa2d7.png)\n",
    "\n",
    "这个流程网上的帖子很多了。\n",
    "\n",
    "QK要去算atten weight，所以二者的维度需要相等 $d_k$， 但V可以和QK的维度$d_v$不等的。\n",
    "\n",
    "Transformer采用的attention是scaled dot-product attention，scaled是说QK乘完之后除以根号下$d_k$\n",
    "\n",
    "$$\\operatorname{Attention}(Q, K, V)=\\operatorname{softmax}\\left(\\frac{Q K^{T}}{\\sqrt{d_{k}}}\\right) V$$"
   ]
  },
  {
   "cell_type": "markdown",
   "metadata": {},
   "source": [
    "**说一下为什么要scaled**\n",
    "\n",
    "当$d_k$很大时，$QK^T$结果会变得很大，这会导致softmax的结果的梯度极小。(因为softmax的梯度需要把坟墓平方一下)。所以我们需要缩放一下$QK^T$结果。\n",
    "\n",
    "\n",
    "原文解释如下：\n",
    "\n",
    "![image](./images/169643252-749f8ed2-1f13-4e95-bb1e-d6896eb5b7e2.png)"
   ]
  },
  {
   "cell_type": "code",
   "execution_count": 12,
   "metadata": {},
   "outputs": [],
   "source": [
    "def attention(query, key, value, mask=None, dropout=None):\n",
    "    \n",
    "    d_k = query.size(-1)\n",
    "    scores = torch.matmul(query, key.transpose(-2, -1)) / math.sqrt(d_k)\n",
    "    if mask is not None:\n",
    "        scores = scores.masked_fill(mask == 0, -1e9)\n",
    "    p_attn = scores.softmax(dim=-1)\n",
    "    if dropout is not None:\n",
    "        p_attn = dropout(p_attn)\n",
    "    return torch.matmul(p_attn, value), p_attn"
   ]
  },
  {
   "cell_type": "markdown",
   "metadata": {},
   "source": [
    "MultiHeadAttention"
   ]
  },
  {
   "cell_type": "code",
   "execution_count": 13,
   "metadata": {},
   "outputs": [],
   "source": [
    "class MultiHeadAttention(nn.Module):\n",
    "    def __init__(self, h, d_model, dropout=0.1):\n",
    "        super(MultiHeadAttention, super).__init__()\n",
    "        assert d_model % h == 0\n",
    "        # 这里假设d_k == d_v\n",
    "        self.d_k = d_model // h\n",
    "        self.h = h\n",
    "        # 这里的4代表decoder中要用到的四个linear layer\n",
    "        self.linears = clones(nn.Linear(d_model, d_model), 4)\n",
    "        self.attn = None\n",
    "        self.dropout = nn.Dropout(p=dropout)\n",
    "        \n",
    "    def forward(self, query, key, value, mask=None):\n",
    "        if mask is not None:\n",
    "            # Same mask applied to all h heads.\n",
    "            mask = mask.unsqueeze(1)\n",
    "            \n",
    "        nbatches = query.size(0)\n",
    "        \n",
    "        # 1) Do all the linear projections in batch from d_model => h x d_k\n",
    "        # 这里有三次循环，分别把query, key, value扔进各自的linear layer。\n",
    "        # linear出来后是d_model维的，所以要reshape成h x d_k。\n",
    "        query, key, value = [\n",
    "            lin(x).view(nbatches, -1, self.h, self.d_k).transpose(1, 2)\n",
    "            for lin, x in zip(self.linears, (query, key, value))\n",
    "        ]\n",
    "        \n",
    "        # Apply attention on all the projected vectors in batch.\n",
    "        x, self.attn = attention(\n",
    "            query, key, value, mask=mask, dropout=self.dropout\n",
    "        )\n",
    "        \n",
    "        \n",
    "        # 3) \"Concat\" using a view and apply a final linear.\n",
    "        x = (\n",
    "            x.transpose(1, 2)\n",
    "            .contiguous()\n",
    "            .view(nbatches, -1, self.h * self.d_k)\n",
    "        )\n",
    "        \n",
    "        del query\n",
    "        del key\n",
    "        del value\n",
    "        return self.linears[-1](x)\n",
    "        "
   ]
  },
  {
   "cell_type": "code",
   "execution_count": 14,
   "metadata": {},
   "outputs": [],
   "source": [
    "class PositionwiseFeedForward(nn.Module):\n",
    "    def __init__(self, d_model, d_ff, dropout=0.1):\n",
    "        super(PositionwiseFeedForward, self).__init__()\n",
    "        self.w_1 = nn.Linear(d_model, d_ff)\n",
    "        self.w_2 = nn.Linear(d_ff, d_model)\n",
    "        self.dropout = nn.Dropout(dropout)\n",
    "        \n",
    "    def forward(self, x):\n",
    "        return self.w_2(self.dropout(self.w_1(x).relu()))"
   ]
  },
  {
   "cell_type": "code",
   "execution_count": 15,
   "metadata": {},
   "outputs": [],
   "source": [
    "class Embeddings(nn.Module):\n",
    "    def __init__(self, d_model, vocab):\n",
    "        super(Embeddings, self).__init__()\n",
    "        self.lut = nn.Embedding(vocab, d_model)\n",
    "        self.d_model = d_model\n",
    "        \n",
    "    def forward(self, x):\n",
    "        return self.lut(x) * math.sqrt(self.d_model)"
   ]
  },
  {
   "cell_type": "code",
   "execution_count": 16,
   "metadata": {},
   "outputs": [],
   "source": [
    "class PositionalEncoding(nn.Module):\n",
    "    \"Implement the PE function.\"\n",
    "\n",
    "    def __init__(self, d_model, dropout, max_len=5000):\n",
    "        super(PositionalEncoding, self).__init__()\n",
    "        self.dropout = nn.Dropout(p=dropout)\n",
    "\n",
    "        # Compute the positional encodings once in log space.\n",
    "        pe = torch.zeros(max_len, d_model)\n",
    "        position = torch.arange(0, max_len).unsqueeze(1)\n",
    "        div_term = torch.exp(\n",
    "            torch.arange(0, d_model, 2) * -(math.log(10000.0) / d_model)\n",
    "        )\n",
    "        pe[:, 0::2] = torch.sin(position * div_term)\n",
    "        pe[:, 1::2] = torch.cos(position * div_term)\n",
    "        pe = pe.unsqueeze(0)\n",
    "        self.register_buffer(\"pe\", pe)\n",
    "\n",
    "    def forward(self, x):\n",
    "        x = x + self.pe[:, : x.size(1)].requires_grad_(False)\n",
    "        return self.dropout(x)"
   ]
  },
  {
   "cell_type": "markdown",
   "metadata": {},
   "source": [
    "以上，我们把模型搭建的部分搞定了。\n",
    "\n",
    "接下来我们分别搞定模型的初始化和inference。\n",
    "\n",
    "目的是弄清楚数据流逻辑。"
   ]
  },
  {
   "cell_type": "code",
   "execution_count": 17,
   "metadata": {},
   "outputs": [],
   "source": [
    "def make_model(\n",
    "  src_vocab, tgt_vocab, N=6, d_model=512, d_ff=2048, h=8, dropout=0.1  \n",
    "):\n",
    "    c = copy.deepcopy\n",
    "    attn = MultiHeadAttention(h, d_model)\n",
    "    ff = PositionwiseFeedForward(d_model, d_ff, dropout)\n",
    "    position = PositionalEncoding(d_model, dropout)\n",
    "    model = EncoderDecoder(\n",
    "      Encoder(EncoderLayer(d_model, c(attn), c(ff), dropout), N),\n",
    "      Decoder(DecoderLayer(d_model, c(attn), c(attn), c(ff), dropout), N),\n",
    "      nn.Sequential(Embeddings(d_model, src_vocab), c(position)),\n",
    "      nn.Sequential(Embeddings(d_model, tgt_vocab), c(position)),\n",
    "      Generator(d_model, tgt_vocab),\n",
    "    )\n",
    "    \n",
    "    # This was important from their code.\n",
    "    # Initialize parameters with Glorot / fan_avg.\n",
    "    for p in model.parameters():\n",
    "      if p.dim() > 1:\n",
    "        nn.init.xavier_uniform_(p)\n",
    "        \n",
    "    return model"
   ]
  },
  {
   "cell_type": "markdown",
   "metadata": {},
   "source": [
    "### Inference"
   ]
  },
  {
   "cell_type": "code",
   "execution_count": null,
   "metadata": {},
   "outputs": [],
   "source": []
  }
 ],
 "metadata": {
  "interpreter": {
   "hash": "46998b421861754d047071d7a347fbe3c3f930471a7e4d708714d8e334e9c1b3"
  },
  "kernelspec": {
   "display_name": "Python 3.9.12 ('base')",
   "language": "python",
   "name": "python3"
  },
  "language_info": {
   "codemirror_mode": {
    "name": "ipython",
    "version": 3
   },
   "file_extension": ".py",
   "mimetype": "text/x-python",
   "name": "python",
   "nbconvert_exporter": "python",
   "pygments_lexer": "ipython3",
   "version": "3.9.12"
  },
  "orig_nbformat": 4
 },
 "nbformat": 4,
 "nbformat_minor": 2
}
