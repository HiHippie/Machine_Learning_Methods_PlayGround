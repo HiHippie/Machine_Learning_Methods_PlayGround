{
 "cells": [
  {
   "cell_type": "code",
   "execution_count": 7,
   "metadata": {},
   "outputs": [],
   "source": [
    "import torch\n",
    "import torch.nn as nn\n",
    "import torch.nn.functional as F"
   ]
  },
  {
   "cell_type": "markdown",
   "metadata": {},
   "source": [
    "reference:\n",
    "\n",
    "http://nlp.seas.harvard.edu/annotated-transformer/\n",
    "\n",
    "\n",
    "### Transformer整体结构\n",
    "\n",
    "Transformer整体上是encoder-decoder架构。\n",
    "\n",
    "Encoder把**符号表示序列**映射为**连续表示序列**， $\\left(x_{1}, \\ldots, x_{n}\\right) \\to \\mathbf{z}=\\left(z_{1}, \\ldots, z_{n}\\right)$\n",
    "\n",
    "Decoder为每个$\\mathbf{z}$中的元素生成输出序列$\\left(y_{1}, \\ldots, y_{m}\\right)$。\n",
    "在生成下一个符号时，使用先前生成的符号作为额外的输入。\n",
    "\n",
    "下面代码段展示了encoder-decoder的框架："
   ]
  },
  {
   "cell_type": "code",
   "execution_count": 6,
   "metadata": {},
   "outputs": [],
   "source": [
    "class EncoderDecoder(nn.Module):\n",
    "    '''\n",
    "    标准的encoder-decoder结构\n",
    "    '''\n",
    "    def __ini__(self, encoder, decoder, src_embed, tgt_embed, generator):\n",
    "        super(EncoderDecoder, self).__init__()\n",
    "        '''\n",
    "        src_embed:\n",
    "        tgt_embed:\n",
    "        '''\n",
    "        self.encoder = encoder\n",
    "        self.decoder = decoder\n",
    "        \n",
    "        self.src_embed = src_embed\n",
    "        self.tgt_embed = tgt_embed\n",
    "        \n",
    "        self.generator = generator\n",
    "        \n",
    "    def forward(self, src, tgt, src_mask, tgt_mask):\n",
    "        \n",
    "        # decoder中的memory为encode的输出\n",
    "        return self.decode(self.encode(src, src_mask), src_mask, tgt, tgt_mask)\n",
    "    \n",
    "    def encode(self, src, src_mask):\n",
    "        \n",
    "        return self.encoder(self.src_embed(src), src_mask)\n",
    "    \n",
    "    def decode(self, memory, src_mask, tgt, tgt_mask):\n",
    "        \n",
    "        return self.decoder(self.tgt_embed(tgt), memory, src_mask, tgt_mask)\n",
    "        "
   ]
  },
  {
   "cell_type": "code",
   "execution_count": 8,
   "metadata": {},
   "outputs": [],
   "source": [
    "class Generator(nn.Module):\n",
    "    \"定义标准的 linear + softmax 生成方式\"\n",
    "    \n",
    "    def __init__(self, d_model, vocab):\n",
    "        super(Generator, self).__init__()\n",
    "        self.proj = nn.Linear(d_model, vocab)\n",
    "    \n",
    "    def forward(self, x):\n",
    "        return F.log_softmax(self.proj(x), dim=-1)\n",
    "        "
   ]
  },
  {
   "cell_type": "markdown",
   "metadata": {},
   "source": [
    "Transformer也采用如上decoder-encoder结构。\n",
    "在decoder和encoder中分别使用了堆叠的self-attention和point-wise全连接层。\n",
    "\n"
   ]
  },
  {
   "cell_type": "code",
   "execution_count": null,
   "metadata": {},
   "outputs": [],
   "source": [
    "def clones(Module, N):\n",
    "    "
   ]
  }
 ],
 "metadata": {
  "interpreter": {
   "hash": "46998b421861754d047071d7a347fbe3c3f930471a7e4d708714d8e334e9c1b3"
  },
  "kernelspec": {
   "display_name": "Python 3.9.12 ('base')",
   "language": "python",
   "name": "python3"
  },
  "language_info": {
   "codemirror_mode": {
    "name": "ipython",
    "version": 3
   },
   "file_extension": ".py",
   "mimetype": "text/x-python",
   "name": "python",
   "nbconvert_exporter": "python",
   "pygments_lexer": "ipython3",
   "version": "3.9.12"
  },
  "orig_nbformat": 4
 },
 "nbformat": 4,
 "nbformat_minor": 2
}
